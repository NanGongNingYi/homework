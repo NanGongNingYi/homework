{
 "cells": [
  {
   "cell_type": "code",
   "execution_count": 3,
   "metadata": {},
   "outputs": [],
   "source": [
    "import numpy as np\n",
    "from scipy.sparse.linalg import svds\n",
    "import matplotlib.pyplot as plt\n",
    "import scipy"
   ]
  },
  {
   "cell_type": "code",
   "execution_count": 67,
   "metadata": {
    "scrolled": true
   },
   "outputs": [
    {
     "data": {
      "text/plain": [
       "(array([[ 0.44, -0.3 , -0.57,  0.58, -0.25],\n",
       "        [ 0.13, -0.33,  0.59,  0.  , -0.73],\n",
       "        [ 0.48, -0.51,  0.37,  0.  ,  0.61],\n",
       "        [ 0.7 ,  0.35, -0.15, -0.58, -0.16],\n",
       "        [ 0.26,  0.65,  0.41,  0.58,  0.09]]),\n",
       " array([2.16, 1.59, 1.28, 1.  , 0.39]),\n",
       " array([[ 0.75,  0.28,  0.2 ,  0.45,  0.33,  0.12],\n",
       "        [-0.29, -0.53, -0.19,  0.63,  0.22,  0.41],\n",
       "        [-0.28,  0.75, -0.45,  0.2 , -0.12,  0.33],\n",
       "        [-0.  ,  0.  ,  0.58,  0.  , -0.58,  0.58],\n",
       "        [ 0.53, -0.29, -0.63, -0.19, -0.41,  0.22],\n",
       "        [-0.  , -0.  ,  0.  , -0.58,  0.58,  0.58]]))"
      ]
     },
     "execution_count": 67,
     "metadata": {},
     "output_type": "execute_result"
    }
   ],
   "source": [
    "import numpy as np\n",
    "from numpy import linalg\n",
    "C = np.matrix([[1, 0, 1, 0, 0, 0], [0, 1, 0, 0, 0, 0], [1, 1, 0, 0, 0, 0], [1, 0, 0, 1, 1, 0], [0, 0, 0, 1, 0, 1]])\n",
    "U, S, T = linalg.svd(C)\n",
    "U.round(2),S.round(2),T.round(2)"
   ]
  },
  {
   "cell_type": "code",
   "execution_count": 63,
   "metadata": {},
   "outputs": [
    {
     "data": {
      "text/plain": [
       "(array([[ 0.4, -0.3, -0.6,  0.6, -0.2],\n",
       "        [ 0.1, -0.3,  0.6,  0. , -0.7],\n",
       "        [ 0.5, -0.5,  0.4,  0. ,  0.6],\n",
       "        [ 0.7,  0.4, -0.2, -0.6, -0.2],\n",
       "        [ 0.3,  0.6,  0.4,  0.6,  0.1]]),\n",
       " array([2.2, 1.6, 1.3, 1. , 0.4]),\n",
       " array([[ 0.7,  0.3,  0.2,  0.4,  0.3,  0.1],\n",
       "        [-0.3, -0.5, -0.2,  0.6,  0.2,  0.4],\n",
       "        [-0.3,  0.7, -0.4,  0.2, -0.1,  0.3],\n",
       "        [-0. ,  0. ,  0.6,  0. , -0.6,  0.6],\n",
       "        [ 0.5, -0.3, -0.6, -0.2, -0.4,  0.2],\n",
       "        [-0. , -0. ,  0. , -0.6,  0.6,  0.6]]))"
      ]
     },
     "execution_count": 63,
     "metadata": {},
     "output_type": "execute_result"
    }
   ],
   "source": []
  },
  {
   "cell_type": "code",
   "execution_count": 65,
   "metadata": {},
   "outputs": [
    {
     "data": {
      "text/plain": [
       "matrix([[1, 0, 1, 0, 0, 0],\n",
       "        [0, 1, 0, 0, 0, 0],\n",
       "        [1, 1, 0, 0, 0, 0],\n",
       "        [1, 0, 0, 1, 1, 0],\n",
       "        [0, 0, 0, 1, 0, 1]])"
      ]
     },
     "execution_count": 65,
     "metadata": {},
     "output_type": "execute_result"
    }
   ],
   "source": [
    "X"
   ]
  },
  {
   "cell_type": "code",
   "execution_count": null,
   "metadata": {},
   "outputs": [],
   "source": []
  }
 ],
 "metadata": {
  "kernelspec": {
   "display_name": "Python 3",
   "language": "python",
   "name": "python3"
  },
  "language_info": {
   "codemirror_mode": {
    "name": "ipython",
    "version": 3
   },
   "file_extension": ".py",
   "mimetype": "text/x-python",
   "name": "python",
   "nbconvert_exporter": "python",
   "pygments_lexer": "ipython3",
   "version": "3.7.6"
  }
 },
 "nbformat": 4,
 "nbformat_minor": 4
}
